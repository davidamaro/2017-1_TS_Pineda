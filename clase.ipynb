{
 "cells": [
  {
   "cell_type": "markdown",
   "metadata": {},
   "source": [
    "# Álgebra lineal y Julia #\n"
   ]
  },
  {
   "cell_type": "markdown",
   "metadata": {},
   "source": [
    "## Vectores ##\n",
    "\n",
    "### Vector columna ###\n",
    "\n",
    "Para crear un vector columna con entradas 1,2 y 3 utilizamos la orden `[1,2,3]`.\n",
    "\n",
    "### Vector fila ###\n",
    "\n",
    "Para crear un vector fila con entradas 1,2 y 3 utilizamos la orden `[1 2 3]`."
   ]
  },
  {
   "cell_type": "markdown",
   "metadata": {},
   "source": [
    "#### Pregunta ####\n",
    "\n",
    "¿Cuál es el tipo de cada uno de los vectores anteriores? ¿En qué se diferencia\n",
    "la salida de `typeof`? Si un arreglo en general de Julia viene dado por\n",
    "`Array{tipo, dim}`, ¿cómo piensas que Julia interpreta a un vector fila, i.e.,\n",
    "es un vector o una matriz?"
   ]
  },
  {
   "cell_type": "markdown",
   "metadata": {},
   "source": [
    "Para crear un vector columna a uno fila podemos utilizar `'`, p.g., `[1,2,3]' == [1 2 3]`."
   ]
  },
  {
   "cell_type": "markdown",
   "metadata": {},
   "source": [
    "#### Pregunta ####\n",
    "\n",
    "¿Qué sucede cuando calculas la transpuesta de la transpuesta de un vector\n",
    "**columna**? ¿Es lo que esperabas?\n",
    "\n",
    "#### Pregunta ####\n",
    "\n",
    "Para calcular el producto punto entre dos vectores puedes usar `a \\cdot[TAB] b`, \n",
    "en donde `[TAB]` significa que tienes que presionar la tecla tabulación.\n",
    "Utiliza la transpuesta de un vector para calcular el producto punto, ¿de qué\n",
    "tipo es la salida?."
   ]
  },
  {
   "cell_type": "markdown",
   "metadata": {},
   "source": [
    "Para crear un vector con entradas aleatorias entre 0 y 1 se utiliza la orden `rand(dim)`.\n",
    "Para crear un vector con entradas siguiente la distribución normal con desviación estándar 1 y media 0 `randn(dim)`."
   ]
  },
  {
   "cell_type": "markdown",
   "metadata": {},
   "source": [
    "#### Ejercicio ####\n",
    "\n",
    "1. Instalen `Plots` usando `Pkg.add(\"Plots\")`.\n",
    "2. Utilizando `histogram(valores)` sustituyendo `valores` por un vector aleatorio siguiendo la distribución normal, generen un histograma."
   ]
  },
  {
   "cell_type": "markdown",
   "metadata": {},
   "source": [
    "#### Ejercicio ####\n",
    "Crear una función que calcule un estado cuántico aleatorio que se llame `estadoaleatorio(dim)`, con m la dimensión que deseamos que tenga."
   ]
  },
  {
   "cell_type": "code",
   "execution_count": 14,
   "metadata": {
    "collapsed": false
   },
   "outputs": [
    {
     "data": {
      "text/plain": [
       "daga (generic function with 1 method)"
      ]
     },
     "execution_count": 14,
     "metadata": {},
     "output_type": "execute_result"
    }
   ],
   "source": [
    "doc\"\"\"\n",
    "Operación daga: daga([1im, 1im, 1im]) = -[1im 1im 1im]\n",
    "\n",
    "Si `estadoaleatorio` devuelve $\\vert \\psi \\rangle$, entonces, `daga` devuelve $\\langle \\psi \\vert$.\n",
    "\"\"\"\n",
    "function daga(state::Array{Complex{Float64},2})\n",
    "    return transpose(conj(state))\n",
    "end"
   ]
  },
  {
   "cell_type": "code",
   "execution_count": 15,
   "metadata": {
    "collapsed": false
   },
   "outputs": [
    {
     "name": "stdout",
     "output_type": "stream",
     "text": [
      "search: daga Diagonal Bidiagonal Tridiagonal SymTridiagonal diagm diag diagind\n",
      "\n"
     ]
    },
    {
     "data": {
      "text/latex": [
       "Operación daga: daga([1im, 1im, 1im]) = -[1im 1im 1im]\n",
       "Si \\texttt{estadoaleatorio} devuelve $\\vert \\psi \\rangle$, entonces, \\texttt{daga} devuelve $\\langle \\psi \\vert$.\n"
      ],
      "text/markdown": [
       "Operación daga: daga([1im, 1im, 1im]) = -[1im 1im 1im]\n",
       "\n",
       "Si `estadoaleatorio` devuelve $\\vert \\psi \\rangle$, entonces, `daga` devuelve $\\langle \\psi \\vert$.\n"
      ],
      "text/plain": [
       "Operación daga: daga([1im, 1im, 1im]) = -[1im 1im 1im]\n",
       "\n",
       "Si `estadoaleatorio` devuelve $\\vert \\psi \\rangle$, entonces, `daga` devuelve $\\langle \\psi \\vert$.\n"
      ]
     },
     "execution_count": 15,
     "metadata": {},
     "output_type": "execute_result"
    }
   ],
   "source": [
    "?daga"
   ]
  },
  {
   "cell_type": "markdown",
   "metadata": {},
   "source": [
    "####  Ejercicio ####"
   ]
  },
  {
   "cell_type": "markdown",
   "metadata": {},
   "source": [
    "Utilizando la función `daga` programar:\n",
    "+ Una función que calcule el producto punto entre dos estados cuánticos.\n",
    "+ Una función que calcule el proyector de un estado cuántico."
   ]
  },
  {
   "cell_type": "markdown",
   "metadata": {},
   "source": [
    "## Matrices ##\n",
    "\n",
    "Para crear la matriz identidad utilizas `eye(tipo, dim)`. Para crear una matriz\n",
    "llenar de cero se utiliza la orden `zeros(tipo, dim)`. Para crear una matriz\n",
    "aleatoria con entradas siguiente la distribución normal con media\n",
    "0 y desviación estándar 1 se utiliza `randn(tipo, [dims])`."
   ]
  },
  {
   "cell_type": "markdown",
   "metadata": {},
   "source": [
    "#### Ejemplo ####\n",
    "\n",
    "Diagonalizar una matriz."
   ]
  },
  {
   "cell_type": "code",
   "execution_count": 1,
   "metadata": {
    "collapsed": false
   },
   "outputs": [
    {
     "data": {
      "text/plain": [
       "3x3 Array{Float64,2}:\n",
       " 1.0  2.0   3.0\n",
       " 3.0  5.0   3.0\n",
       " 4.0  5.0  16.0"
      ]
     },
     "execution_count": 1,
     "metadata": {},
     "output_type": "execute_result"
    }
   ],
   "source": [
    "mat = [1 2 3; 3 5. 3; 4 5 16]"
   ]
  },
  {
   "cell_type": "code",
   "execution_count": 4,
   "metadata": {
    "collapsed": false
   },
   "outputs": [
    {
     "data": {
      "text/plain": [
       "3x3 Array{Float64,2}:\n",
       " -0.195173  -0.88552    -0.160238\n",
       " -0.259389   0.458214   -0.88965 \n",
       " -0.945846   0.0767726   0.427606"
      ]
     },
     "execution_count": 4,
     "metadata": {},
     "output_type": "execute_result"
    }
   ],
   "source": [
    "vecs = eigvecs(mat)"
   ]
  },
  {
   "cell_type": "code",
   "execution_count": 6,
   "metadata": {
    "collapsed": false
   },
   "outputs": [
    {
     "data": {
      "text/plain": [
       "3x3 Array{Float64,2}:\n",
       " 18.1966        4.44089e-16  8.88178e-16\n",
       " -5.59969e-15  -0.294997     2.91434e-16\n",
       " -3.55271e-15   9.99201e-16  4.0984     "
      ]
     },
     "execution_count": 6,
     "metadata": {},
     "output_type": "execute_result"
    }
   ],
   "source": [
    "inv(vecs)*mat*vecs"
   ]
  },
  {
   "cell_type": "code",
   "execution_count": 11,
   "metadata": {
    "collapsed": false
   },
   "outputs": [
    {
     "data": {
      "text/plain": [
       "chop (generic function with 2 methods)"
      ]
     },
     "execution_count": 11,
     "metadata": {},
     "output_type": "execute_result"
    }
   ],
   "source": [
    "function chop(mat, tol = 1e-5)\n",
    "    for i in eachindex(mat)\n",
    "        if abs(mat[i]) < tol\n",
    "            mat[i] = 0.\n",
    "        end\n",
    "    end\n",
    "    mat\n",
    "end"
   ]
  },
  {
   "cell_type": "code",
   "execution_count": 12,
   "metadata": {
    "collapsed": false
   },
   "outputs": [
    {
     "data": {
      "text/plain": [
       "3x3 Array{Float64,2}:\n",
       " 18.1966   0.0       0.0   \n",
       "  0.0     -0.294997  0.0   \n",
       "  0.0      0.0       4.0984"
      ]
     },
     "execution_count": 12,
     "metadata": {},
     "output_type": "execute_result"
    }
   ],
   "source": [
    "chop(inv(vecs)*mat*vecs)"
   ]
  },
  {
   "cell_type": "markdown",
   "metadata": {},
   "source": [
    "####  Ejercicio ####\n",
    "\n",
    "Documentar la función `chop`."
   ]
  },
  {
   "cell_type": "markdown",
   "metadata": {},
   "source": [
    "####  Ejercicio ####\n",
    "\n",
    "Crear una matriz *hermitiana* y diagonalizarla. Utilizar `chop` si es necesario."
   ]
  },
  {
   "cell_type": "markdown",
   "metadata": {},
   "source": [
    "####  Ejercicio ####\n",
    "\n",
    "Crear una matriz $H$ *hermitiana* y obtener $h$,la matriz $H$ diagoanlizada. Utilizar `chop` si es necesario. \n",
    "+ Utilizar la función `expm` para calcular $\\exp(-i h)$ con $h$ la matriz que diagonalizaron. \n",
    "+ Calcular los eigenvalores de $\\exp(-i h)$.\n",
    "+ Calcular los eigenvalores de $\\exp(-i H)$."
   ]
  },
  {
   "cell_type": "markdown",
   "metadata": {},
   "source": [
    "## Producto tensorial ##"
   ]
  },
  {
   "cell_type": "markdown",
   "metadata": {},
   "source": [
    "Las matrices de Pauli son,\n",
    "\n",
    "$$\n",
    "\\sigma_x = \\begin{pmatrix}0&1\\\\1&0\\end{pmatrix}, \n",
    "\\sigma_y = \\begin{pmatrix}0&-i\\\\i&0\\end{pmatrix}, \n",
    "\\sigma_z = \\begin{pmatrix}1&0\\\\0&-1\\end{pmatrix}\n",
    "$$"
   ]
  },
  {
   "cell_type": "code",
   "execution_count": 16,
   "metadata": {
    "collapsed": false
   },
   "outputs": [
    {
     "data": {
      "text/plain": [
       "pauli (generic function with 2 methods)"
      ]
     },
     "execution_count": 16,
     "metadata": {},
     "output_type": "execute_result"
    }
   ],
   "source": [
    "function pauli(n=3)\n",
    "    if n == 1\n",
    "        return [0. 1; 1 0]\n",
    "    elseif n == 2\n",
    "        return [0 -1.im; 1im 0]\n",
    "    elseif n == 3\n",
    "        return [1. 0; 0 -1]\n",
    "    else\n",
    "        return eye(2)\n",
    "    end\n",
    "end"
   ]
  },
  {
   "cell_type": "markdown",
   "metadata": {},
   "source": [
    "Se entiende que $\\sigma_z(2) = \\mathbb{1}\\otimes\\sigma_z$."
   ]
  },
  {
   "cell_type": "markdown",
   "metadata": {},
   "source": [
    "Para calcular $\\sigma_z(n)$ cuando tenemos un sistema formado por $k$ espines utilizaremos esta función."
   ]
  },
  {
   "cell_type": "code",
   "execution_count": 18,
   "metadata": {
    "collapsed": false
   },
   "outputs": [
    {
     "data": {
      "text/plain": [
       "paulin (generic function with 1 method)"
      ]
     },
     "execution_count": 18,
     "metadata": {},
     "output_type": "execute_result"
    }
   ],
   "source": [
    "function paulin(n, k)\n",
    "    mat = fill(eye(2), k)\n",
    "    mat[n] = pauli()\n",
    "    kron(mat...)\n",
    "end"
   ]
  },
  {
   "cell_type": "code",
   "execution_count": 23,
   "metadata": {
    "collapsed": false
   },
   "outputs": [
    {
     "data": {
      "text/plain": [
       "0.0"
      ]
     },
     "execution_count": 23,
     "metadata": {},
     "output_type": "execute_result"
    }
   ],
   "source": [
    "norm(paulin(3, 3)-kron(eye(2),eye(2),pauli()))"
   ]
  },
  {
   "cell_type": "markdown",
   "metadata": {},
   "source": [
    "##  Tarea"
   ]
  },
  {
   "cell_type": "markdown",
   "metadata": {},
   "source": [
    "Todo lo siguiente tiene que subirse a Travis"
   ]
  },
  {
   "cell_type": "markdown",
   "metadata": {},
   "source": [
    "1. Generar una matriz hermitiana de $n\\times n$, calcular sus eigenvectors, calcular los proyectores de los eigenvectores y comprobar que la suma es la identidad de $n\\times n$.\n",
    "2. Crear una matriz *hermitiana* y diagonalizarla. Utilizar `chop` si es necesario. \n",
    "    + Utilizar la función `expm` para calcular $\\exp(-i h)$ con $h$ la matriz que diagonalizaron. \n",
    "    + Calcular los eigenvalores de $\\exp(-i h)$.\n",
    "    + Calcular las fases de los eigenvalores que calcularon en el paso anterior.\n",
    "    + Hacer un histograma de estas fases."
   ]
  }
 ],
 "metadata": {
  "kernelspec": {
   "display_name": "Julia 0.4.5",
   "language": "julia",
   "name": "julia-0.4"
  },
  "language_info": {
   "file_extension": ".jl",
   "mimetype": "application/julia",
   "name": "julia",
   "version": "0.4.6"
  }
 },
 "nbformat": 4,
 "nbformat_minor": 0
}
